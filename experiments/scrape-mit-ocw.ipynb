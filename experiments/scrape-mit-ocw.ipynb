{
 "cells": [
  {
   "cell_type": "code",
   "execution_count": 4,
   "metadata": {},
   "outputs": [
    {
     "name": "stdout",
     "output_type": "stream",
     "text": [
      "[youtube:tab] Extracting URL: https://www.youtube.com/channel/UCvoWXOKwyZlV4koigzPLZxw\n",
      "[youtube:tab] UCvoWXOKwyZlV4koigzPLZxw: Downloading webpage\n",
      "[youtube:tab] Downloading all uploads of the channel. To download only the videos in a specific tab, pass the tab's URL\n",
      "[download] Downloading playlist: Alpri B. Else - Videos\n",
      "[info] Writing playlist metadata as JSON to: downloads/UCvoWXOKwyZlV4koigzPLZxw.info.json\n",
      "[youtube:tab] Playlist Alpri B. Else - Videos: Downloading 9 items of 9\n",
      "[download] Downloading item 1 of 9\n",
      "[youtube] Extracting URL: https://www.youtube.com/watch?v=A3TDmHMqZZk\n",
      "[youtube] A3TDmHMqZZk: Downloading webpage\n",
      "[youtube] A3TDmHMqZZk: Downloading android player API JSON\n",
      "[download] 2019-01-02 upload date is not in range 2010-01-01 - 2018-01-01\n",
      "[download] Downloading item 2 of 9\n",
      "[youtube] Extracting URL: https://www.youtube.com/watch?v=M3D6U-yUCnQ\n",
      "[youtube] M3D6U-yUCnQ: Downloading webpage\n",
      "[youtube] M3D6U-yUCnQ: Downloading android player API JSON\n",
      "[download] 2018-12-17 upload date is not in range 2010-01-01 - 2018-01-01\n",
      "[download] Downloading item 3 of 9\n",
      "[youtube] Extracting URL: https://www.youtube.com/watch?v=NT01UvFBZIg\n",
      "[youtube] NT01UvFBZIg: Downloading webpage\n",
      "[youtube] NT01UvFBZIg: Downloading android player API JSON\n",
      "[youtube] NT01UvFBZIg: Downloading MPD manifest\n",
      "[download] 2018-04-29 upload date is not in range 2010-01-01 - 2018-01-01\n",
      "[download] Downloading item 4 of 9\n",
      "[youtube] Extracting URL: https://www.youtube.com/watch?v=kRw7l7dxa3c\n",
      "[youtube] kRw7l7dxa3c: Downloading webpage\n",
      "[youtube] kRw7l7dxa3c: Downloading android player API JSON\n",
      "[info] kRw7l7dxa3c: Downloading 1 format(s): 137+251\n",
      "[info] Writing video metadata as JSON to: downloads/kRw7l7dxa3c.info.json\n",
      "[download] Downloading item 5 of 9\n",
      "[youtube] Extracting URL: https://www.youtube.com/watch?v=uYdAf5XX7hQ\n",
      "[youtube] uYdAf5XX7hQ: Downloading webpage\n",
      "[youtube] uYdAf5XX7hQ: Downloading android player API JSON\n",
      "[youtube] uYdAf5XX7hQ: Downloading MPD manifest\n",
      "[info] uYdAf5XX7hQ: Downloading 1 format(s): 248+251\n",
      "[info] Writing video metadata as JSON to: downloads/uYdAf5XX7hQ.info.json\n",
      "[download] Downloading item 6 of 9\n",
      "[youtube] Extracting URL: https://www.youtube.com/watch?v=qwb3hqX7zYM\n",
      "[youtube] qwb3hqX7zYM: Downloading webpage\n",
      "[youtube] qwb3hqX7zYM: Downloading android player API JSON\n",
      "[info] qwb3hqX7zYM: Downloading 1 format(s): 244+251\n",
      "[info] Writing video metadata as JSON to: downloads/qwb3hqX7zYM.info.json\n",
      "[download] Downloading item 7 of 9\n",
      "[youtube] Extracting URL: https://www.youtube.com/watch?v=Rn134IHQA9k\n",
      "[youtube] Rn134IHQA9k: Downloading webpage\n",
      "[youtube] Rn134IHQA9k: Downloading android player API JSON\n",
      "[youtube] Rn134IHQA9k: Downloading MPD manifest\n",
      "[info] Rn134IHQA9k: Downloading 1 format(s): 137+251\n",
      "[info] Writing video metadata as JSON to: downloads/Rn134IHQA9k.info.json\n",
      "[download] Downloading item 8 of 9\n",
      "[youtube] Extracting URL: https://www.youtube.com/watch?v=mHEOwnShF_Q\n",
      "[youtube] mHEOwnShF_Q: Downloading webpage\n",
      "[youtube] mHEOwnShF_Q: Downloading android player API JSON\n",
      "[youtube] mHEOwnShF_Q: Downloading MPD manifest\n",
      "[info] mHEOwnShF_Q: Downloading 1 format(s): 248+251\n",
      "[info] Writing video metadata as JSON to: downloads/mHEOwnShF_Q.info.json\n",
      "[download] Downloading item 9 of 9\n",
      "[youtube] Extracting URL: https://www.youtube.com/watch?v=i4_yhDwad80\n",
      "[youtube] i4_yhDwad80: Downloading webpage\n",
      "[youtube] i4_yhDwad80: Downloading android player API JSON\n",
      "[info] i4_yhDwad80: Downloading 1 format(s): 248+251\n",
      "[info] Writing video metadata as JSON to: downloads/i4_yhDwad80.info.json\n",
      "[info] Writing updated playlist metadata as JSON to: downloads/UCvoWXOKwyZlV4koigzPLZxw.info.json\n",
      "[download] Finished downloading playlist: Alpri B. Else - Videos\n",
      "hi\n"
     ]
    }
   ],
   "source": [
    "from yt_dlp import YoutubeDL, DateRange\n",
    "\n",
    "ydl_opts = {\n",
    "  # 'format': 'm4a/bestaudio/best',\n",
    "  # 'postprocessors': [{  \n",
    "  #     'key': 'FFmpegExtractAudio',\n",
    "  #     'preferredcodec': 'mp3',\n",
    "  # }],\n",
    "  'daterange': DateRange(\"20100101\", \"20180101\"),\n",
    "  'outtmpl': {\n",
    "    'default': '%(id)s.%(ext)s'\n",
    "  },\n",
    "  'paths': {\n",
    "    'home': 'downloads'\n",
    "  },\n",
    "  'writeinfojson': True,\n",
    "  'skip_download': True,\n",
    "}\n",
    "\n",
    "with YoutubeDL(ydl_opts) as ydl:\n",
    "  ydl.download([\"https://www.youtube.com/channel/UCvoWXOKwyZlV4koigzPLZxw\"])\n",
    "\n",
    "print('hi')"
   ]
  },
  {
   "cell_type": "code",
   "execution_count": null,
   "metadata": {},
   "outputs": [],
   "source": []
  }
 ],
 "metadata": {
  "kernelspec": {
   "display_name": "Python 3.8.0 ('.venv': venv)",
   "language": "python",
   "name": "python3"
  },
  "language_info": {
   "codemirror_mode": {
    "name": "ipython",
    "version": 3
   },
   "file_extension": ".py",
   "mimetype": "text/x-python",
   "name": "python",
   "nbconvert_exporter": "python",
   "pygments_lexer": "ipython3",
   "version": "3.8.0"
  },
  "orig_nbformat": 4,
  "vscode": {
   "interpreter": {
    "hash": "67be691d35e2628d0978d53321b1e1b9a57814101d69a3be938c5b0c5195f825"
   }
  }
 },
 "nbformat": 4,
 "nbformat_minor": 2
}
