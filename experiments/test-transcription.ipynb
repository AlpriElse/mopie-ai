{
 "cells": [
  {
   "cell_type": "code",
   "execution_count": 4,
   "metadata": {},
   "outputs": [],
   "source": [
    "import torch\n",
    "from transformers import pipeline\n",
    "from datasets import load_dataset"
   ]
  },
  {
   "cell_type": "code",
   "execution_count": 12,
   "metadata": {},
   "outputs": [
    {
     "name": "stderr",
     "output_type": "stream",
     "text": [
      "Downloading (…)lve/main/config.json: 100%|██████████| 1.97k/1.97k [00:00<00:00, 223kB/s]\n",
      "Downloading (…)\"pytorch_model.bin\";:   7%|▋         | 461M/6.17G [00:16<03:24, 27.9MB/s] "
     ]
    }
   ],
   "source": [
    "def load_audio():\n",
    "  with open(\"tmp/output.mp3\", \"rb\") as f:\n",
    "    return f.read()\n",
    "\n",
    "device = \"cuda:0\" if torch.cuda.is_available() else \"cpu\"\n",
    "\n",
    "pipe = pipeline(\n",
    "  \"automatic-speech-recognition\",\n",
    "  model=\"openai/whisper-large-v2\",\n",
    "  chunk_length_s=30,\n",
    "  device=device,\n",
    ")\n",
    "\n",
    "\n",
    "\n",
    "prediction = pipe(load_audio())[\"text\"]\n",
    "\n",
    "# # we can also return timestamps for the predictions\n",
    "# prediction = pipe(sample, return_timestamps=True)[\"chunks\"]\n"
   ]
  },
  {
   "cell_type": "code",
   "execution_count": null,
   "metadata": {},
   "outputs": [],
   "source": []
  }
 ],
 "metadata": {
  "kernelspec": {
   "display_name": "Python 3.8.0 ('.venv': venv)",
   "language": "python",
   "name": "python3"
  },
  "language_info": {
   "codemirror_mode": {
    "name": "ipython",
    "version": 3
   },
   "file_extension": ".py",
   "mimetype": "text/x-python",
   "name": "python",
   "nbconvert_exporter": "python",
   "pygments_lexer": "ipython3",
   "version": "3.8.0"
  },
  "orig_nbformat": 4,
  "vscode": {
   "interpreter": {
    "hash": "67be691d35e2628d0978d53321b1e1b9a57814101d69a3be938c5b0c5195f825"
   }
  }
 },
 "nbformat": 4,
 "nbformat_minor": 2
}
