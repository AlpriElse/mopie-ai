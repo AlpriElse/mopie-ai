{
 "cells": [
  {
   "cell_type": "code",
   "execution_count": null,
   "metadata": {},
   "outputs": [],
   "source": [
    "from yt_dlp import YoutubeDL\n",
    "\n",
    "ydl_opts = {\n",
    "  # 'format': 'm4a/bestaudio/best',\n",
    "  # 'postprocessors': [{  \n",
    "  #     'key': 'FFmpegExtractAudio',\n",
    "  #     'preferredcodec': 'mp3',\n",
    "  # }],\n",
    "  'outtmpl': {\n",
    "    'default': '%(id)s.%(ext)s'\n",
    "  },\n",
    "  'paths': {\n",
    "    'home': 'downloads'\n",
    "  },\n",
    "  'writeinfojson': True,\n",
    "  'skip_download': True,\n",
    "}\n",
    "\n",
    "with YoutubeDL(ydl_opts) as ydl:\n",
    "  ydl.download([\"https://www.youtube.com/channel/UCvoWXOKwyZlV4koigzPLZxw\"])"
   ]
  }
 ],
 "metadata": {
  "language_info": {
   "name": "python"
  },
  "orig_nbformat": 4
 },
 "nbformat": 4,
 "nbformat_minor": 2
}
